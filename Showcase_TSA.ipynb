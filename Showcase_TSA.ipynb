{
 "cells": [
  {
   "cell_type": "markdown",
   "id": "3bfe26c5",
   "metadata": {},
   "source": [
    "## Showcase for TSA procedures in InfraPy"
   ]
  },
  {
   "cell_type": "code",
   "execution_count": 1,
   "id": "2693b740",
   "metadata": {},
   "outputs": [],
   "source": [
    "from infrapy import io, thermoelasticity, visualization\n",
    "from infrapy.visualization import interactive_lockin_explorer\n",
    "import ipywidgets as widgets"
   ]
  },
  {
   "cell_type": "code",
   "execution_count": 2,
   "id": "70210160",
   "metadata": {},
   "outputs": [
    {
     "name": "stderr",
     "output_type": "stream",
     "text": [
      "c:\\Users\\loren\\Documents\\Repo\\InfraPy\\infrapy\\io.py:89: ResourceWarning: unclosed file <_io.BufferedReader name='C:\\\\Users\\\\loren\\\\Documents\\\\UniPg\\\\Data_Nyquist\\\\38_7.sfmov'>\n",
      "  arr = sfmov.get_data(path)\n",
      "ResourceWarning: Enable tracemalloc to get the object allocation traceback\n"
     ]
    }
   ],
   "source": [
    "data = io.load_ir_data(r'C:\\Users\\loren\\Documents\\UniPg\\Data_Nyquist\\38_7.sfmov')"
   ]
  },
  {
   "cell_type": "code",
   "execution_count": null,
   "id": "430d2d1e",
   "metadata": {},
   "outputs": [],
   "source": [
    "magnitude, phase = thermoelasticity.lock_in_analysis(data, fs=150, fl=38.7, method='fft')"
   ]
  },
  {
   "cell_type": "code",
   "execution_count": null,
   "id": "4d64bf75",
   "metadata": {},
   "outputs": [],
   "source": [
    "visualization.plot_tsa_maps(magnitude, phase,  cmap_mag='plasma',cmap_phase='grey', mag_lim=[0,0.02]) "
   ]
  }
 ],
 "metadata": {
  "kernelspec": {
   "display_name": "base",
   "language": "python",
   "name": "python3"
  },
  "language_info": {
   "codemirror_mode": {
    "name": "ipython",
    "version": 3
   },
   "file_extension": ".py",
   "mimetype": "text/x-python",
   "name": "python",
   "nbconvert_exporter": "python",
   "pygments_lexer": "ipython3",
   "version": "3.12.7"
  }
 },
 "nbformat": 4,
 "nbformat_minor": 5
}
